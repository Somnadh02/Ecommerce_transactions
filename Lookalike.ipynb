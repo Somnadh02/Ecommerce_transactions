{
 "cells": [
  {
   "cell_type": "code",
   "execution_count": 3,
   "id": "3351215c",
   "metadata": {
    "scrolled": true
   },
   "outputs": [],
   "source": [
    "import pandas as pd\n",
    "from sklearn.preprocessing import StandardScaler\n",
    "from sklearn.metrics.pairwise import cosine_similarity\n",
    "\n",
    "customers = pd.read_csv(\"Customers.csv\")\n",
    "transactions = pd.read_csv(\"Transactions.csv\")\n",
    "\n",
    "customer_transactions = transactions.groupby(\"CustomerID\").agg({\n",
    "    \"TotalValue\": \"sum\",\n",
    "    \"Quantity\": \"sum\"\n",
    "}).reset_index()\n",
    "\n",
    "customer_data = customers.merge(customer_transactions, on=\"CustomerID\", how=\"left\").fillna(0)\n",
    "\n",
    "customer_data = pd.get_dummies(customer_data, columns=[\"Region\"], drop_first=True)\n",
    "\n",
    "scaler = StandardScaler()\n",
    "numeric_cols = [\"TotalValue\", \"Quantity\"]\n",
    "customer_data[numeric_cols] = scaler.fit_transform(customer_data[numeric_cols])\n",
    "\n",
    "similarity_matrix = cosine_similarity(customer_data[numeric_cols])\n",
    "similarity_df = pd.DataFrame(similarity_matrix, index=customer_data[\"CustomerID\"], columns=customer_data[\"CustomerID\"])\n",
    "\n",
    "lookalike_results = []\n",
    "for cust_id in customers[\"CustomerID\"].head(20):\n",
    "    similar_customers = similarity_df[cust_id].nlargest(4).iloc[1:]\n",
    "    lookalike_results.append([cust_id] + list(sum(zip(similar_customers.index, similar_customers.values), ())))\n",
    "\n",
    "columns = [\"CustomerID\", \"Lookalike_1\", \"Score_1\", \"Lookalike_2\", \"Score_2\", \"Lookalike_3\", \"Score_3\"]\n",
    "lookalike_df = pd.DataFrame(lookalike_results, columns=columns)\n",
    "lookalike_df.to_csv(\"Lookalike.csv\", index=False)\n"
   ]
  },
  {
   "cell_type": "code",
   "execution_count": null,
   "id": "395d8df6",
   "metadata": {},
   "outputs": [],
   "source": []
  }
 ],
 "metadata": {
  "kernelspec": {
   "display_name": "Python 3 (ipykernel)",
   "language": "python",
   "name": "python3"
  },
  "language_info": {
   "codemirror_mode": {
    "name": "ipython",
    "version": 3
   },
   "file_extension": ".py",
   "mimetype": "text/x-python",
   "name": "python",
   "nbconvert_exporter": "python",
   "pygments_lexer": "ipython3",
   "version": "3.11.4"
  }
 },
 "nbformat": 4,
 "nbformat_minor": 5
}
